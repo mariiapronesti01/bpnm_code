{
 "cells": [
  {
   "cell_type": "code",
   "execution_count": null,
   "metadata": {
    "vscode": {
     "languageId": "plaintext"
    }
   },
   "outputs": [],
   "source": [
    "import os\n",
    "import xml.etree.ElementTree as ET\n",
    "\n",
    "def add_lane_names_in_files(folder_path):\n",
    "    # Traverse the folder and process each XML file\n",
    "    for subdir, _, files in os.walk(folder_path):\n",
    "        for file in files:\n",
    "            if file.endswith(\".xml\"):\n",
    "                file_path = os.path.join(subdir, file)\n",
    "                add_lane_name_if_missing(file_path)\n",
    "\n",
    "def add_lane_name_if_missing(file_path):\n",
    "    # Parse the XML file\n",
    "    tree = ET.parse(file_path)\n",
    "    root = tree.getroot()\n",
    "\n",
    "    # Find all <process> elements\n",
    "    namespaces = {\n",
    "        'bpmn': 'http://www.omg.org/spec/BPMN/20100524/MODEL'\n",
    "    }\n",
    "    \n",
    "    processes = root.findall('.//bpmn:process', namespaces)\n",
    "\n",
    "    # Flag to track if we made changes to the file\n",
    "    changes_made = False\n",
    "\n",
    "    # Loop through each <process> element\n",
    "    for process in processes:\n",
    "        # Get the name of the process\n",
    "        process_name = process.attrib.get('name', None)\n",
    "        \n",
    "        if not process_name:\n",
    "            continue  # Skip if no process name is available\n",
    "\n",
    "        # Find all lanes in the current process's laneSet\n",
    "        lanes = process.findall('.//bpmn:lane', namespaces)\n",
    "\n",
    "        # Check each lane element for missing 'name' attribute\n",
    "        for lane in lanes:\n",
    "            if 'name' not in lane.attrib:\n",
    "                # If the name attribute is missing, set it to the process name\n",
    "                lane.set('name', process_name)\n",
    "                changes_made = True\n",
    "\n",
    "    # If changes were made, write back the updated XML to the file\n",
    "    if changes_made:\n",
    "        tree.write(file_path, encoding=\"UTF-8\", xml_declaration=True)\n",
    "        print(f\"Updated file: {file_path}\")\n",
    "\n",
    "# Example usage\n",
    "folder_containing_xml_files = \"/path/to/your/folder\"\n",
    "add_lane_names_in_files(folder_containing_xml_files)\n"
   ]
  }
 ],
 "metadata": {
  "language_info": {
   "name": "python"
  }
 },
 "nbformat": 4,
 "nbformat_minor": 2
}
