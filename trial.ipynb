{
 "cells": [
  {
   "cell_type": "markdown",
   "metadata": {},
   "source": [
    "# 1st attempt - FAILED: NOT ENOUGH SPACE\n",
    "Try to see if different model can build an xml file of a bpmn\n",
    "- tried out on google collab, but large models were not supported (only T5-large and T5-3B, but not successfull results)"
   ]
  },
  {
   "cell_type": "markdown",
   "metadata": {},
   "source": [
    "## 2nd attempt - FAILED\n",
    "Try out some metrics to identifyt he most suitable one - for now using only zenodo data"
   ]
  },
  {
   "cell_type": "code",
   "execution_count": null,
   "metadata": {},
   "outputs": [],
   "source": [
    "# need to read an xml file and extract the data\n",
    "import xml.etree.ElementTree as ET\n",
    "\n",
    "# Load XML from a file\n",
    "tree = ET.parse('dati\\zenodo_dati\\E_j01\\\\0.bpmn.xml')\n",
    "root = tree.getroot()\n",
    "\n",
    "# Or load XML from a string\n",
    "# root = ET.fromstring(xml_string)\n",
    "\n",
    "# Accessing elements\n",
    "for child in root:\n",
    "    print(child.tag, child.attrib)\n",
    "\n",
    "# Accessing a specific element\n",
    "for elem in root.findall('.//someElement'):\n",
    "    print(elem.text)\n"
   ]
  },
  {
   "cell_type": "code",
   "execution_count": null,
   "metadata": {},
   "outputs": [],
   "source": [
    "import networkx as nx\n",
    "import matplotlib.pyplot as plt\n",
    "\n",
    "# Create a directed graph\n",
    "G = nx.DiGraph()\n",
    "\n",
    "# Recursive function to add nodes and edges to the graph\n",
    "def add_nodes_edges(element, parent=None):\n",
    "    # Add the current element as a node\n",
    "    G.add_node(element.tag, attrib=element.attrib, text=element.text)\n",
    "    \n",
    "    if parent is not None:\n",
    "        # Add an edge from the parent to the current element\n",
    "        G.add_edge(parent, element.tag)\n",
    "    \n",
    "    # Recurse for each child element\n",
    "    for child in element:\n",
    "        add_nodes_edges(child, element.tag)\n",
    "\n",
    "# Start adding nodes and edges from the root\n",
    "add_nodes_edges(root)\n",
    "\n",
    "# Visualizing the graph (optional, requires matplotlib)\n",
    "import matplotlib.pyplot as plt\n",
    "nx.draw(G, with_labels=True, node_color='lightblue', font_weight='bold')\n",
    "plt.show()\n"
   ]
  },
  {
   "cell_type": "markdown",
   "metadata": {},
   "source": [
    "## 3rd attempt"
   ]
  },
  {
   "cell_type": "code",
   "execution_count": null,
   "metadata": {},
   "outputs": [],
   "source": [
    "from bpmn_python.bpmn_diagram_rep import BpmnDiagramGraph\n",
    "from bpmn_python.bpmn_diagram_import import BpmnDiagramGraphImport"
   ]
  },
  {
   "cell_type": "code",
   "execution_count": null,
   "metadata": {},
   "outputs": [],
   "source": [
    "#bpmn_diagram = BpmnDiagramGraph()\n",
    "\n",
    "# Step 2: Define the path to your BPMN 2.0 XML file\n",
    "file_path = 'dati\\zenodo_dati\\E_j01\\\\2.bpmn2.xml'\n",
    "\n",
    "# Step 3: Use the static method to load the diagram\n",
    "loaded_diagram = BpmnDiagramGraph().load_diagram_from_xml_file(file_path)\n",
    "\n",
    "# loaded_diagram now contains the BPMN diagram mapped from the XML file.\n",
    "\n",
    "\n"
   ]
  },
  {
   "cell_type": "code",
   "execution_count": null,
   "metadata": {},
   "outputs": [],
   "source": []
  }
 ],
 "metadata": {
  "kernelspec": {
   "display_name": "bpmn",
   "language": "python",
   "name": "python3"
  },
  "language_info": {
   "codemirror_mode": {
    "name": "ipython",
    "version": 3
   },
   "file_extension": ".py",
   "mimetype": "text/x-python",
   "name": "python",
   "nbconvert_exporter": "python",
   "pygments_lexer": "ipython3",
   "version": "3.10.13"
  }
 },
 "nbformat": 4,
 "nbformat_minor": 2
}
