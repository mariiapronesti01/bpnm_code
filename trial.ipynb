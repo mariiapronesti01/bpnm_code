{
 "cells": [
  {
   "cell_type": "markdown",
   "metadata": {},
   "source": [
    "- Tried to understand how different models work\n",
    "- Requested access to Llama model oh hugginface (ACCEPTED)\n",
    "- Llama models are too big to be used with collab gpu, smaller model (T5large and T5-3b) did not provide very good results so far - need to try some more\n",
    "\n",
    "Left aside the problem of big models for a moment to uderstand how to work with bpmn in python -- needed to find a good measure of distance between bpmn version and to quantify model performance\n",
    "\n",
    "(IDEA: use zenodo data, take two versions of the same textual description - both classified as 5 - and test the measure on them.)\n",
    "\n",
    "PROBLEM: Still did not manage to import bpmn fiile"
   ]
  },
  {
   "cell_type": "markdown",
   "metadata": {},
   "source": [
    "## bpmn_pyhton"
   ]
  },
  {
   "cell_type": "code",
   "execution_count": 7,
   "metadata": {},
   "outputs": [],
   "source": [
    "from bpmn_python.bpmn_diagram_rep import BpmnDiagramGraph\n",
    "#from bpmn_python.bpmn_diagram_import import BpmnDiagramGraphImport"
   ]
  },
  {
   "cell_type": "code",
   "execution_count": 8,
   "metadata": {},
   "outputs": [
    {
     "ename": "AttributeError",
     "evalue": "'Graph' object has no attribute 'node'",
     "output_type": "error",
     "traceback": [
      "\u001b[1;31m---------------------------------------------------------------------------\u001b[0m",
      "\u001b[1;31mAttributeError\u001b[0m                            Traceback (most recent call last)",
      "Cell \u001b[1;32mIn[8], line 5\u001b[0m\n\u001b[0;32m      2\u001b[0m file_path \u001b[38;5;241m=\u001b[39m \u001b[38;5;124m'\u001b[39m\u001b[38;5;124mdati\u001b[39m\u001b[38;5;124m\\\u001b[39m\u001b[38;5;124mzenodo_dati\u001b[39m\u001b[38;5;124m\\\u001b[39m\u001b[38;5;124mE_j01\u001b[39m\u001b[38;5;130;01m\\\\\u001b[39;00m\u001b[38;5;124m2.bpmn2.xml\u001b[39m\u001b[38;5;124m'\u001b[39m\n\u001b[0;32m      4\u001b[0m \u001b[38;5;66;03m# Use the static method to load the diagram\u001b[39;00m\n\u001b[1;32m----> 5\u001b[0m loaded_diagram \u001b[38;5;241m=\u001b[39m \u001b[43mBpmnDiagramGraph\u001b[49m\u001b[43m(\u001b[49m\u001b[43m)\u001b[49m\u001b[38;5;241;43m.\u001b[39;49m\u001b[43mload_diagram_from_xml_file\u001b[49m\u001b[43m(\u001b[49m\u001b[43mfile_path\u001b[49m\u001b[43m)\u001b[49m\n",
      "File \u001b[1;32mc:\\Users\\maria\\anaconda3\\envs\\SNA_env\\lib\\site-packages\\bpmn_python\\bpmn_diagram_rep.py:63\u001b[0m, in \u001b[0;36mBpmnDiagramGraph.load_diagram_from_xml_file\u001b[1;34m(self, filepath)\u001b[0m\n\u001b[0;32m     55\u001b[0m \u001b[38;5;28;01mdef\u001b[39;00m \u001b[38;5;21mload_diagram_from_xml_file\u001b[39m(\u001b[38;5;28mself\u001b[39m, filepath):\n\u001b[0;32m     56\u001b[0m \u001b[38;5;250m    \u001b[39m\u001b[38;5;124;03m\"\"\"\u001b[39;00m\n\u001b[0;32m     57\u001b[0m \u001b[38;5;124;03m    Reads an XML file from given filepath and maps it into inner representation of BPMN diagram.\u001b[39;00m\n\u001b[0;32m     58\u001b[0m \u001b[38;5;124;03m    Returns an instance of BPMNDiagramGraph class.\u001b[39;00m\n\u001b[0;32m     59\u001b[0m \n\u001b[0;32m     60\u001b[0m \u001b[38;5;124;03m    :param filepath: string with output filepath.\u001b[39;00m\n\u001b[0;32m     61\u001b[0m \u001b[38;5;124;03m    \"\"\"\u001b[39;00m\n\u001b[1;32m---> 63\u001b[0m     \u001b[43mbpmn_import\u001b[49m\u001b[38;5;241;43m.\u001b[39;49m\u001b[43mBpmnDiagramGraphImport\u001b[49m\u001b[38;5;241;43m.\u001b[39;49m\u001b[43mload_diagram_from_xml\u001b[49m\u001b[43m(\u001b[49m\u001b[43mfilepath\u001b[49m\u001b[43m,\u001b[49m\u001b[43m \u001b[49m\u001b[38;5;28;43mself\u001b[39;49m\u001b[43m)\u001b[49m\n",
      "File \u001b[1;32mc:\\Users\\maria\\anaconda3\\envs\\SNA_env\\lib\\site-packages\\bpmn_python\\bpmn_diagram_import.py:43\u001b[0m, in \u001b[0;36mBpmnDiagramGraphImport.load_diagram_from_xml\u001b[1;34m(filepath, bpmn_diagram)\u001b[0m\n\u001b[0;32m     39\u001b[0m plane_element \u001b[38;5;241m=\u001b[39m diagram_element\u001b[38;5;241m.\u001b[39mgetElementsByTagNameNS(\u001b[38;5;124m\"\u001b[39m\u001b[38;5;124m*\u001b[39m\u001b[38;5;124m\"\u001b[39m, \u001b[38;5;124m\"\u001b[39m\u001b[38;5;124mBPMNPlane\u001b[39m\u001b[38;5;124m\"\u001b[39m)[\u001b[38;5;241m0\u001b[39m]\n\u001b[0;32m     40\u001b[0m BpmnDiagramGraphImport\u001b[38;5;241m.\u001b[39mimport_diagram_and_plane_attributes(diagram_attributes, plane_attributes,\n\u001b[0;32m     41\u001b[0m                                                            diagram_element, plane_element)\n\u001b[1;32m---> 43\u001b[0m \u001b[43mBpmnDiagramGraphImport\u001b[49m\u001b[38;5;241;43m.\u001b[39;49m\u001b[43mimport_process_elements\u001b[49m\u001b[43m(\u001b[49m\u001b[43mdocument\u001b[49m\u001b[43m,\u001b[49m\u001b[43m \u001b[49m\u001b[43mdiagram_graph\u001b[49m\u001b[43m,\u001b[49m\u001b[43m \u001b[49m\u001b[43msequence_flows\u001b[49m\u001b[43m,\u001b[49m\u001b[43m \u001b[49m\u001b[43mprocess_elements_dict\u001b[49m\u001b[43m,\u001b[49m\n\u001b[0;32m     44\u001b[0m \u001b[43m                                               \u001b[49m\u001b[43mplane_element\u001b[49m\u001b[43m)\u001b[49m\n\u001b[0;32m     46\u001b[0m collaboration_element_list \u001b[38;5;241m=\u001b[39m document\u001b[38;5;241m.\u001b[39mgetElementsByTagNameNS(\u001b[38;5;124m\"\u001b[39m\u001b[38;5;124m*\u001b[39m\u001b[38;5;124m\"\u001b[39m, consts\u001b[38;5;241m.\u001b[39mConsts\u001b[38;5;241m.\u001b[39mcollaboration)\n\u001b[0;32m     47\u001b[0m \u001b[38;5;28;01mif\u001b[39;00m collaboration_element_list \u001b[38;5;129;01mis\u001b[39;00m \u001b[38;5;129;01mnot\u001b[39;00m \u001b[38;5;28;01mNone\u001b[39;00m \u001b[38;5;129;01mand\u001b[39;00m \u001b[38;5;28mlen\u001b[39m(collaboration_element_list) \u001b[38;5;241m>\u001b[39m \u001b[38;5;241m0\u001b[39m:\n\u001b[0;32m     48\u001b[0m     \u001b[38;5;66;03m# Diagram has multiple pools and lanes\u001b[39;00m\n",
      "File \u001b[1;32mc:\\Users\\maria\\anaconda3\\envs\\SNA_env\\lib\\site-packages\\bpmn_python\\bpmn_diagram_import.py:164\u001b[0m, in \u001b[0;36mBpmnDiagramGraphImport.import_process_elements\u001b[1;34m(document, diagram_graph, sequence_flows, process_elements_dict, plane_element)\u001b[0m\n\u001b[0;32m    162\u001b[0m     \u001b[38;5;28;01mif\u001b[39;00m element\u001b[38;5;241m.\u001b[39mnodeType \u001b[38;5;241m!=\u001b[39m element\u001b[38;5;241m.\u001b[39mTEXT_NODE:\n\u001b[0;32m    163\u001b[0m         tag_name \u001b[38;5;241m=\u001b[39m utils\u001b[38;5;241m.\u001b[39mBpmnImportUtils\u001b[38;5;241m.\u001b[39mremove_namespace_from_tag_name(element\u001b[38;5;241m.\u001b[39mtagName)\n\u001b[1;32m--> 164\u001b[0m         \u001b[43mBpmnDiagramGraphImport\u001b[49m\u001b[38;5;241;43m.\u001b[39;49m\u001b[43m__import_element_by_tag_name\u001b[49m\u001b[43m(\u001b[49m\u001b[43mdiagram_graph\u001b[49m\u001b[43m,\u001b[49m\u001b[43m \u001b[49m\u001b[43msequence_flows\u001b[49m\u001b[43m,\u001b[49m\u001b[43m \u001b[49m\u001b[43mprocess_id\u001b[49m\u001b[43m,\u001b[49m\n\u001b[0;32m    165\u001b[0m \u001b[43m                                                            \u001b[49m\u001b[43mprocess_attributes\u001b[49m\u001b[43m,\u001b[49m\u001b[43m \u001b[49m\u001b[43melement\u001b[49m\u001b[43m,\u001b[49m\u001b[43m \u001b[49m\u001b[43mtag_name\u001b[49m\u001b[43m)\u001b[49m\n\u001b[0;32m    167\u001b[0m \u001b[38;5;28;01mfor\u001b[39;00m flow \u001b[38;5;129;01min\u001b[39;00m utils\u001b[38;5;241m.\u001b[39mBpmnImportUtils\u001b[38;5;241m.\u001b[39miterate_elements(process_element):\n\u001b[0;32m    168\u001b[0m     \u001b[38;5;28;01mif\u001b[39;00m flow\u001b[38;5;241m.\u001b[39mnodeType \u001b[38;5;241m!=\u001b[39m flow\u001b[38;5;241m.\u001b[39mTEXT_NODE:\n",
      "File \u001b[1;32mc:\\Users\\maria\\anaconda3\\envs\\SNA_env\\lib\\site-packages\\bpmn_python\\bpmn_diagram_import.py:199\u001b[0m, in \u001b[0;36mBpmnDiagramGraphImport.__import_element_by_tag_name\u001b[1;34m(diagram_graph, sequence_flows, process_id, process_attributes, element, tag_name)\u001b[0m\n\u001b[0;32m    196\u001b[0m     BpmnDiagramGraphImport\u001b[38;5;241m.\u001b[39mimport_complex_gateway_to_graph(diagram_graph, process_id, process_attributes,\n\u001b[0;32m    197\u001b[0m                                                            element)\n\u001b[0;32m    198\u001b[0m \u001b[38;5;28;01melif\u001b[39;00m tag_name \u001b[38;5;241m==\u001b[39m consts\u001b[38;5;241m.\u001b[39mConsts\u001b[38;5;241m.\u001b[39mstart_event:\n\u001b[1;32m--> 199\u001b[0m     \u001b[43mBpmnDiagramGraphImport\u001b[49m\u001b[38;5;241;43m.\u001b[39;49m\u001b[43mimport_start_event_to_graph\u001b[49m\u001b[43m(\u001b[49m\u001b[43mdiagram_graph\u001b[49m\u001b[43m,\u001b[49m\u001b[43m \u001b[49m\u001b[43mprocess_id\u001b[49m\u001b[43m,\u001b[49m\u001b[43m \u001b[49m\u001b[43mprocess_attributes\u001b[49m\u001b[43m,\u001b[49m\u001b[43m \u001b[49m\u001b[43melement\u001b[49m\u001b[43m)\u001b[49m\n\u001b[0;32m    200\u001b[0m \u001b[38;5;28;01melif\u001b[39;00m tag_name \u001b[38;5;241m==\u001b[39m consts\u001b[38;5;241m.\u001b[39mConsts\u001b[38;5;241m.\u001b[39mend_event:\n\u001b[0;32m    201\u001b[0m     BpmnDiagramGraphImport\u001b[38;5;241m.\u001b[39mimport_end_event_to_graph(diagram_graph, process_id, process_attributes, element)\n",
      "File \u001b[1;32mc:\\Users\\maria\\anaconda3\\envs\\SNA_env\\lib\\site-packages\\bpmn_python\\bpmn_diagram_import.py:596\u001b[0m, in \u001b[0;36mBpmnDiagramGraphImport.import_start_event_to_graph\u001b[1;34m(diagram_graph, process_id, process_attributes, element)\u001b[0m\n\u001b[0;32m    593\u001b[0m element_id \u001b[38;5;241m=\u001b[39m element\u001b[38;5;241m.\u001b[39mgetAttribute(consts\u001b[38;5;241m.\u001b[39mConsts\u001b[38;5;241m.\u001b[39mid)\n\u001b[0;32m    594\u001b[0m start_event_definitions \u001b[38;5;241m=\u001b[39m {\u001b[38;5;124m'\u001b[39m\u001b[38;5;124mmessageEventDefinition\u001b[39m\u001b[38;5;124m'\u001b[39m, \u001b[38;5;124m'\u001b[39m\u001b[38;5;124mtimerEventDefinition\u001b[39m\u001b[38;5;124m'\u001b[39m, \u001b[38;5;124m'\u001b[39m\u001b[38;5;124mconditionalEventDefinition\u001b[39m\u001b[38;5;124m'\u001b[39m,\n\u001b[0;32m    595\u001b[0m                            \u001b[38;5;124m'\u001b[39m\u001b[38;5;124mescalationEventDefinition\u001b[39m\u001b[38;5;124m'\u001b[39m, \u001b[38;5;124m'\u001b[39m\u001b[38;5;124msignalEventDefinition\u001b[39m\u001b[38;5;124m'\u001b[39m}\n\u001b[1;32m--> 596\u001b[0m \u001b[43mBpmnDiagramGraphImport\u001b[49m\u001b[38;5;241;43m.\u001b[39;49m\u001b[43mimport_flow_node_to_graph\u001b[49m\u001b[43m(\u001b[49m\u001b[43mdiagram_graph\u001b[49m\u001b[43m,\u001b[49m\u001b[43m \u001b[49m\u001b[43mprocess_id\u001b[49m\u001b[43m,\u001b[49m\u001b[43m \u001b[49m\u001b[43mprocess_attributes\u001b[49m\u001b[43m,\u001b[49m\u001b[43m \u001b[49m\u001b[43melement\u001b[49m\u001b[43m)\u001b[49m\n\u001b[0;32m    597\u001b[0m diagram_graph\u001b[38;5;241m.\u001b[39mnode[element_id][consts\u001b[38;5;241m.\u001b[39mConsts\u001b[38;5;241m.\u001b[39mparallel_multiple] \u001b[38;5;241m=\u001b[39m \\\n\u001b[0;32m    598\u001b[0m     element\u001b[38;5;241m.\u001b[39mgetAttribute(consts\u001b[38;5;241m.\u001b[39mConsts\u001b[38;5;241m.\u001b[39mparallel_multiple) \\\n\u001b[0;32m    599\u001b[0m         \u001b[38;5;28;01mif\u001b[39;00m element\u001b[38;5;241m.\u001b[39mhasAttribute(consts\u001b[38;5;241m.\u001b[39mConsts\u001b[38;5;241m.\u001b[39mparallel_multiple) \u001b[38;5;28;01melse\u001b[39;00m \u001b[38;5;124m\"\u001b[39m\u001b[38;5;124mfalse\u001b[39m\u001b[38;5;124m\"\u001b[39m\n\u001b[0;32m    600\u001b[0m diagram_graph\u001b[38;5;241m.\u001b[39mnode[element_id][consts\u001b[38;5;241m.\u001b[39mConsts\u001b[38;5;241m.\u001b[39mis_interrupting] \u001b[38;5;241m=\u001b[39m \\\n\u001b[0;32m    601\u001b[0m     element\u001b[38;5;241m.\u001b[39mgetAttribute(consts\u001b[38;5;241m.\u001b[39mConsts\u001b[38;5;241m.\u001b[39mis_interrupting) \\\n\u001b[0;32m    602\u001b[0m         \u001b[38;5;28;01mif\u001b[39;00m element\u001b[38;5;241m.\u001b[39mhasAttribute(consts\u001b[38;5;241m.\u001b[39mConsts\u001b[38;5;241m.\u001b[39mis_interrupting) \u001b[38;5;28;01melse\u001b[39;00m \u001b[38;5;124m\"\u001b[39m\u001b[38;5;124mtrue\u001b[39m\u001b[38;5;124m\"\u001b[39m\n",
      "File \u001b[1;32mc:\\Users\\maria\\anaconda3\\envs\\SNA_env\\lib\\site-packages\\bpmn_python\\bpmn_diagram_import.py:345\u001b[0m, in \u001b[0;36mBpmnDiagramGraphImport.import_flow_node_to_graph\u001b[1;34m(bpmn_graph, process_id, process_attributes, flow_node_element)\u001b[0m\n\u001b[0;32m    343\u001b[0m element_id \u001b[38;5;241m=\u001b[39m flow_node_element\u001b[38;5;241m.\u001b[39mgetAttribute(consts\u001b[38;5;241m.\u001b[39mConsts\u001b[38;5;241m.\u001b[39mid)\n\u001b[0;32m    344\u001b[0m bpmn_graph\u001b[38;5;241m.\u001b[39madd_node(element_id)\n\u001b[1;32m--> 345\u001b[0m \u001b[43mbpmn_graph\u001b[49m\u001b[38;5;241;43m.\u001b[39;49m\u001b[43mnode\u001b[49m[element_id][consts\u001b[38;5;241m.\u001b[39mConsts\u001b[38;5;241m.\u001b[39mid] \u001b[38;5;241m=\u001b[39m element_id\n\u001b[0;32m    346\u001b[0m bpmn_graph\u001b[38;5;241m.\u001b[39mnode[element_id][consts\u001b[38;5;241m.\u001b[39mConsts\u001b[38;5;241m.\u001b[39mtype] \u001b[38;5;241m=\u001b[39m \\\n\u001b[0;32m    347\u001b[0m     utils\u001b[38;5;241m.\u001b[39mBpmnImportUtils\u001b[38;5;241m.\u001b[39mremove_namespace_from_tag_name(flow_node_element\u001b[38;5;241m.\u001b[39mtagName)\n\u001b[0;32m    348\u001b[0m bpmn_graph\u001b[38;5;241m.\u001b[39mnode[element_id][consts\u001b[38;5;241m.\u001b[39mConsts\u001b[38;5;241m.\u001b[39mnode_name] \u001b[38;5;241m=\u001b[39m \\\n\u001b[0;32m    349\u001b[0m     flow_node_element\u001b[38;5;241m.\u001b[39mgetAttribute(consts\u001b[38;5;241m.\u001b[39mConsts\u001b[38;5;241m.\u001b[39mname) \\\n\u001b[0;32m    350\u001b[0m         \u001b[38;5;28;01mif\u001b[39;00m flow_node_element\u001b[38;5;241m.\u001b[39mhasAttribute(consts\u001b[38;5;241m.\u001b[39mConsts\u001b[38;5;241m.\u001b[39mname) \\\n\u001b[0;32m    351\u001b[0m         \u001b[38;5;28;01melse\u001b[39;00m \u001b[38;5;124m\"\u001b[39m\u001b[38;5;124m\"\u001b[39m\n",
      "\u001b[1;31mAttributeError\u001b[0m: 'Graph' object has no attribute 'node'"
     ]
    }
   ],
   "source": [
    "# Define the path to your BPMN 2.0 XML file\n",
    "file_path = 'dati\\zenodo_dati\\E_j01\\\\2.bpmn2.xml'\n",
    "\n",
    "# Use the static method to load the diagram\n",
    "loaded_diagram = BpmnDiagramGraph().load_diagram_from_xml_file(file_path)\n"
   ]
  }
 ],
 "metadata": {
  "kernelspec": {
   "display_name": "bpmn",
   "language": "python",
   "name": "python3"
  },
  "language_info": {
   "codemirror_mode": {
    "name": "ipython",
    "version": 3
   },
   "file_extension": ".py",
   "mimetype": "text/x-python",
   "name": "python",
   "nbconvert_exporter": "python",
   "pygments_lexer": "ipython3",
   "version": "3.10.13"
  }
 },
 "nbformat": 4,
 "nbformat_minor": 2
}
